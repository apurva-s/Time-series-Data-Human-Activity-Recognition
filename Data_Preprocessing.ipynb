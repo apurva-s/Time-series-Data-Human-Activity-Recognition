{
  "nbformat": 4,
  "nbformat_minor": 0,
  "metadata": {
    "colab": {
      "name": "Data_Preprocessing",
      "provenance": [],
      "collapsed_sections": []
    },
    "kernelspec": {
      "display_name": "Python 3",
      "name": "python3"
    },
    "language_info": {
      "name": "python"
    }
  },
  "cells": [
    {
      "cell_type": "markdown",
      "metadata": {
        "id": "5q7l3k83_Ngh"
      },
      "source": [
        "**Using this workspace**\n",
        "\n",
        "The following code is used to prepare the dataset for training.  There are multiple subjects with varying numbers of sessions.  The end goal is to have a pandas dataframe with all of the subjects in order and also create an output label for each input.  Because the output data is sampled at a different rate than the input data, it has to be interpolated so that they match.  At the end a file named \"final.csv\" is created, which will be used when training our model.  "
      ]
    },
    {
      "cell_type": "markdown",
      "metadata": {
        "id": "vBXXG0-v2D1O"
      },
      "source": [
        "**Specify Google Drive Directory With Training Data CSV Files**\n",
        "\n",
        "Subject input data is labeled \"subject_00<subject number>_*__x.csv\n",
        "\n",
        "Subject output data is labeled \"subject_00<subject number>_*__y.csv"
      ]
    },
    {
      "cell_type": "code",
      "metadata": {
        "id": "qgHUWbuy2DEJ"
      },
      "source": [
        "TrainingData=\"/content/gdrive/MyDrive/ProjectC2Final/TrainingData\""
      ],
      "execution_count": null,
      "outputs": []
    },
    {
      "cell_type": "markdown",
      "metadata": {
        "id": "mdLvZsXs3Rql"
      },
      "source": [
        "**Import Google Drive, Authenticate Access**"
      ]
    },
    {
      "cell_type": "code",
      "metadata": {
        "colab": {
          "base_uri": "https://localhost:8080/"
        },
        "id": "OIcA4viOGgkK",
        "outputId": "f1986cd6-d508-4de3-eae3-fa7eae7d474a"
      },
      "source": [
        "from google.colab import drive\n",
        "drive.mount(\"/content/gdrive\")"
      ],
      "execution_count": null,
      "outputs": [
        {
          "output_type": "stream",
          "text": [
            "Mounted at /content/gdrive\n"
          ],
          "name": "stdout"
        }
      ]
    },
    {
      "cell_type": "markdown",
      "metadata": {
        "id": "cudf2QR_3VI_"
      },
      "source": [
        "**Import Libraries Needed for Data Preprocessing**"
      ]
    },
    {
      "cell_type": "code",
      "metadata": {
        "id": "wJPhPp5x2CPS"
      },
      "source": [
        "%tensorflow_version 1.x\n",
        "\n",
        "from keras.utils import to_categorical\n",
        "from numpy import array\n",
        "from numpy import argmax\n",
        "import os\n",
        "import glob\n",
        "import pandas as pd\n",
        "os.chdir(TrainingData)\n",
        "extension = 'csv'"
      ],
      "execution_count": null,
      "outputs": []
    },
    {
      "cell_type": "markdown",
      "metadata": {
        "id": "KXDTF9gB3b9T"
      },
      "source": [
        "**Combine all subjects into one pandas dataframe**"
      ]
    },
    {
      "cell_type": "markdown",
      "metadata": {
        "id": "WGyQuc0A_6YT"
      },
      "source": [
        "Go through each subject and all of their sessions and append the data onto one large dataframe"
      ]
    },
    {
      "cell_type": "code",
      "metadata": {
        "colab": {
          "base_uri": "https://localhost:8080/"
        },
        "id": "sCrvya31ds-j",
        "outputId": "6bc58220-a979-43cb-ea35-deafb6c10e01"
      },
      "source": [
        "\n",
        "x_total = [[]]\n",
        "y_total = [[]]\n",
        "temp = pd.DataFrame()\n",
        "all_x_filenames=list()\n",
        "all_x_filenames,all_xtime_filenames,all_y_filenames,all_ytime_filenames=[None]*9,[None]*9,[None]*9,[None]*9\n",
        "#pd.concat([pd.read_csv('subject_001_*__x.csv',header=None),pd.read_csv('subject_001_*__y.csv',header=None)],axis=1)\n",
        "for j in range(1,8):\n",
        "  all_x_filenames[j] = [i for i in glob.glob('subject_00{}*__x.{}'.format(j,extension))]\n",
        "  all_xtime_filenames[j] = [i for i in glob.glob('subject_00{}*__x_time.{}'.format(j,extension))]\n",
        "  all_y_filenames[j] = [i for i in glob.glob('subject_00{}*__y.{}'.format(j,extension))]\n",
        "  all_ytime_filenames[j] = [i for i in glob.glob('subject_00{}*__y_time.{}'.format(j,extension))]\n",
        "  count = 0\n",
        "  x_total.append([j])\n",
        "  y_total.append([j])\n",
        "  x_total[j][0]=(pd.DataFrame([0,0,0]))\n",
        "  y_total[j][0]=(pd.DataFrame([0,0,0]))\n",
        "  #print(y_total,x_total)\n",
        "  #print(len(all_x_filenames[j])+1)\n",
        "  for i,p,k,l,part in zip(sorted(all_x_filenames[j]),sorted(all_xtime_filenames[j]),sorted(all_y_filenames[j]),sorted(all_ytime_filenames[j]),range(1,len(all_x_filenames[j])+1)):\n",
        "    x_total[j].append(pd.concat([pd.read_csv(i,header=None),pd.read_csv(p,header=None).rename({0:\"time\"} ,axis=1)],axis=1))\n",
        "    x_total[j][part]['subject_name'] = ['subject_00'+str(j)+'__'+str(part)]*len(x_total[j][part])\n",
        "    x_total[j][part].to_csv('x_total'+str(j)+'__'+str(part)+'.csv', index=False, encoding='utf-8-sig')\n",
        "    # print(pd.read_csv(k,header=None).head(10),pd.read_csv(l,header=None).head(10),part,j)\n",
        "    # abc = pd.concat([pd.read_csv(k,header=None),pd.read_csv(l,header=None)],axis=1)\n",
        "    y_total[j].append(pd.concat([pd.read_csv(k,header=None),pd.read_csv(l,header=None).rename({0:\"time\"} ,axis=1)],axis=1))\n",
        "    y_total[j][part]['subject_name'] = ['subject_00'+str(j)+'__'+str(part)]*len(y_total[j][part])\n",
        "    y_total[j][part].to_csv('y_total'+str(j)+'__'+str(part)+'.csv', index=False, encoding='utf-8-sig')\n",
        "    count = count +1\n",
        "  #for i in range(len(all_x_filenames)):\n",
        "    #pd.concat()\n",
        "  #pd.read_csv('subject_001_01__y.csv',header=None).value_counts()\n",
        "    # print(type(x_total).__name__)\n",
        "    # print(x_total[j][part].columns)\n",
        "    # print('header value is \\n',x_total[j][part])\n",
        "    x_total[j][part] = x_total[j][part].iloc[1:]\n",
        "    y_total[j][part] = y_total[j][part].iloc[1:]\n",
        "    x_total[j][part] = x_total[j][part].rename(columns = {0:\"xa\",1:\"ya\",2:\"za\",3:\"xg\",4:\"yg\",5:\"zg\"})\n",
        "    y_total[j][part] = y_total[j][part].rename(columns = {0:\"Label\"})\n",
        "    \n",
        "    x_total[j][part]['time'] = x_total[j][part]['time'].apply(lambda x: int(x*100)/100)\n",
        "    \n",
        "\n",
        "    #x_total[j][part] = x_total[j][part]['time'].apply(lambda x: float(round(x, 2)))\n",
        "    \n",
        "    \n",
        "    \n",
        "    # y_total[j][part] = y_total[j][part].rename(columns={'subject_name': 'subject_name'})\n",
        "    # x_total[j][part] = x_total[j][part].rename(columns={'subject_name': 'sub'})\n",
        "    print(\"subject\")\n",
        "    print(j,part)\n",
        "    abc = pd.DataFrame(x_total[j][part]).merge(pd.DataFrame(y_total[j][part]), on = ['time', 'subject_name'], how = 'left')\n",
        "    temp = temp.append(abc)"
      ],
      "execution_count": null,
      "outputs": [
        {
          "output_type": "stream",
          "text": [
            "subject\n",
            "1 1\n",
            "subject\n",
            "1 2\n",
            "subject\n",
            "1 3\n",
            "subject\n",
            "1 4\n",
            "subject\n",
            "1 5\n",
            "subject\n",
            "1 6\n",
            "subject\n",
            "1 7\n",
            "subject\n",
            "1 8\n",
            "subject\n",
            "2 1\n",
            "subject\n",
            "2 2\n",
            "subject\n",
            "2 3\n",
            "subject\n",
            "2 4\n",
            "subject\n",
            "2 5\n",
            "subject\n",
            "3 1\n",
            "subject\n",
            "3 2\n",
            "subject\n",
            "3 3\n",
            "subject\n",
            "4 1\n",
            "subject\n",
            "4 2\n",
            "subject\n",
            "5 1\n",
            "subject\n",
            "5 2\n",
            "subject\n",
            "5 3\n",
            "subject\n",
            "6 1\n",
            "subject\n",
            "6 2\n",
            "subject\n",
            "6 3\n",
            "subject\n",
            "7 1\n",
            "subject\n",
            "7 2\n",
            "subject\n",
            "7 3\n",
            "subject\n",
            "7 4\n"
          ],
          "name": "stdout"
        }
      ]
    },
    {
      "cell_type": "markdown",
      "metadata": {
        "id": "r9h0HB6y3_EX"
      },
      "source": [
        "**Interpolate the undersampled outputs**\n",
        "\n",
        "The input data is sampled at 40 hz while the output data is sample at 10hz.  This means there will be 4 times as many inputs as there are outputs.  We want every input to have an output, so the output data has to be interpolated."
      ]
    },
    {
      "cell_type": "code",
      "metadata": {
        "colab": {
          "base_uri": "https://localhost:8080/",
          "height": 419
        },
        "id": "cBEo6ZRw3wNY",
        "outputId": "fe38395a-df20-4efe-b2e9-f7fceab38cb2"
      },
      "source": [
        "temp"
      ],
      "execution_count": null,
      "outputs": [
        {
          "output_type": "execute_result",
          "data": {
            "text/html": [
              "<div>\n",
              "<style scoped>\n",
              "    .dataframe tbody tr th:only-of-type {\n",
              "        vertical-align: middle;\n",
              "    }\n",
              "\n",
              "    .dataframe tbody tr th {\n",
              "        vertical-align: top;\n",
              "    }\n",
              "\n",
              "    .dataframe thead th {\n",
              "        text-align: right;\n",
              "    }\n",
              "</style>\n",
              "<table border=\"1\" class=\"dataframe\">\n",
              "  <thead>\n",
              "    <tr style=\"text-align: right;\">\n",
              "      <th></th>\n",
              "      <th>xa</th>\n",
              "      <th>ya</th>\n",
              "      <th>za</th>\n",
              "      <th>xg</th>\n",
              "      <th>yg</th>\n",
              "      <th>zg</th>\n",
              "      <th>time</th>\n",
              "      <th>subject_name</th>\n",
              "      <th>Label</th>\n",
              "    </tr>\n",
              "  </thead>\n",
              "  <tbody>\n",
              "    <tr>\n",
              "      <th>0</th>\n",
              "      <td>4.186920</td>\n",
              "      <td>8.344455</td>\n",
              "      <td>2.908057</td>\n",
              "      <td>0.005771</td>\n",
              "      <td>-0.004480</td>\n",
              "      <td>-0.003345</td>\n",
              "      <td>0.02</td>\n",
              "      <td>subject_001__1</td>\n",
              "      <td>NaN</td>\n",
              "    </tr>\n",
              "    <tr>\n",
              "      <th>1</th>\n",
              "      <td>4.544637</td>\n",
              "      <td>8.408659</td>\n",
              "      <td>2.890000</td>\n",
              "      <td>0.007967</td>\n",
              "      <td>0.022412</td>\n",
              "      <td>0.001159</td>\n",
              "      <td>0.05</td>\n",
              "      <td>subject_001__1</td>\n",
              "      <td>NaN</td>\n",
              "    </tr>\n",
              "    <tr>\n",
              "      <th>2</th>\n",
              "      <td>4.849308</td>\n",
              "      <td>8.411614</td>\n",
              "      <td>2.900692</td>\n",
              "      <td>0.027778</td>\n",
              "      <td>-0.010670</td>\n",
              "      <td>-0.014223</td>\n",
              "      <td>0.07</td>\n",
              "      <td>subject_001__1</td>\n",
              "      <td>NaN</td>\n",
              "    </tr>\n",
              "    <tr>\n",
              "      <th>3</th>\n",
              "      <td>4.509190</td>\n",
              "      <td>8.118649</td>\n",
              "      <td>2.847298</td>\n",
              "      <td>0.021577</td>\n",
              "      <td>-0.045498</td>\n",
              "      <td>-0.021111</td>\n",
              "      <td>0.10</td>\n",
              "      <td>subject_001__1</td>\n",
              "      <td>NaN</td>\n",
              "    </tr>\n",
              "    <tr>\n",
              "      <th>4</th>\n",
              "      <td>4.226515</td>\n",
              "      <td>8.273807</td>\n",
              "      <td>2.851742</td>\n",
              "      <td>0.012534</td>\n",
              "      <td>0.000445</td>\n",
              "      <td>-0.016830</td>\n",
              "      <td>0.12</td>\n",
              "      <td>subject_001__1</td>\n",
              "      <td>0.0</td>\n",
              "    </tr>\n",
              "    <tr>\n",
              "      <th>...</th>\n",
              "      <td>...</td>\n",
              "      <td>...</td>\n",
              "      <td>...</td>\n",
              "      <td>...</td>\n",
              "      <td>...</td>\n",
              "      <td>...</td>\n",
              "      <td>...</td>\n",
              "      <td>...</td>\n",
              "      <td>...</td>\n",
              "    </tr>\n",
              "    <tr>\n",
              "      <th>39433</th>\n",
              "      <td>1.266767</td>\n",
              "      <td>8.270302</td>\n",
              "      <td>5.139698</td>\n",
              "      <td>-0.002222</td>\n",
              "      <td>0.005120</td>\n",
              "      <td>-0.000951</td>\n",
              "      <td>985.85</td>\n",
              "      <td>subject_007__4</td>\n",
              "      <td>NaN</td>\n",
              "    </tr>\n",
              "    <tr>\n",
              "      <th>39434</th>\n",
              "      <td>1.150554</td>\n",
              "      <td>8.234723</td>\n",
              "      <td>5.204723</td>\n",
              "      <td>-0.002844</td>\n",
              "      <td>-0.008267</td>\n",
              "      <td>-0.003333</td>\n",
              "      <td>985.87</td>\n",
              "      <td>subject_007__4</td>\n",
              "      <td>NaN</td>\n",
              "    </tr>\n",
              "    <tr>\n",
              "      <th>39435</th>\n",
              "      <td>1.216095</td>\n",
              "      <td>8.261302</td>\n",
              "      <td>5.236952</td>\n",
              "      <td>-0.002018</td>\n",
              "      <td>0.003734</td>\n",
              "      <td>0.001111</td>\n",
              "      <td>985.90</td>\n",
              "      <td>subject_007__4</td>\n",
              "      <td>NaN</td>\n",
              "    </tr>\n",
              "    <tr>\n",
              "      <th>39436</th>\n",
              "      <td>1.314432</td>\n",
              "      <td>8.252274</td>\n",
              "      <td>5.215568</td>\n",
              "      <td>-0.005769</td>\n",
              "      <td>0.007968</td>\n",
              "      <td>-0.000449</td>\n",
              "      <td>985.92</td>\n",
              "      <td>subject_007__4</td>\n",
              "      <td>0.0</td>\n",
              "    </tr>\n",
              "    <tr>\n",
              "      <th>39437</th>\n",
              "      <td>1.293864</td>\n",
              "      <td>8.242272</td>\n",
              "      <td>5.236136</td>\n",
              "      <td>-0.003441</td>\n",
              "      <td>-0.002222</td>\n",
              "      <td>-0.004229</td>\n",
              "      <td>985.95</td>\n",
              "      <td>subject_007__4</td>\n",
              "      <td>NaN</td>\n",
              "    </tr>\n",
              "  </tbody>\n",
              "</table>\n",
              "<p>1293480 rows × 9 columns</p>\n",
              "</div>"
            ],
            "text/plain": [
              "             xa        ya        za  ...    time    subject_name  Label\n",
              "0      4.186920  8.344455  2.908057  ...    0.02  subject_001__1    NaN\n",
              "1      4.544637  8.408659  2.890000  ...    0.05  subject_001__1    NaN\n",
              "2      4.849308  8.411614  2.900692  ...    0.07  subject_001__1    NaN\n",
              "3      4.509190  8.118649  2.847298  ...    0.10  subject_001__1    NaN\n",
              "4      4.226515  8.273807  2.851742  ...    0.12  subject_001__1    0.0\n",
              "...         ...       ...       ...  ...     ...             ...    ...\n",
              "39433  1.266767  8.270302  5.139698  ...  985.85  subject_007__4    NaN\n",
              "39434  1.150554  8.234723  5.204723  ...  985.87  subject_007__4    NaN\n",
              "39435  1.216095  8.261302  5.236952  ...  985.90  subject_007__4    NaN\n",
              "39436  1.314432  8.252274  5.215568  ...  985.92  subject_007__4    0.0\n",
              "39437  1.293864  8.242272  5.236136  ...  985.95  subject_007__4    NaN\n",
              "\n",
              "[1293480 rows x 9 columns]"
            ]
          },
          "metadata": {
            "tags": []
          },
          "execution_count": 8
        }
      ]
    },
    {
      "cell_type": "code",
      "metadata": {
        "id": "QzCQc7jKW0h-"
      },
      "source": [
        "temp = pd.DataFrame(temp.interpolate(method = 'pad',limit = 4)).fillna(0)"
      ],
      "execution_count": null,
      "outputs": []
    },
    {
      "cell_type": "code",
      "metadata": {
        "colab": {
          "base_uri": "https://localhost:8080/",
          "height": 419
        },
        "id": "4CbgVj7LgnUR",
        "outputId": "2fd0e39c-2dad-4c97-98c5-0298bed49c2a"
      },
      "source": [
        "  temp"
      ],
      "execution_count": null,
      "outputs": [
        {
          "output_type": "execute_result",
          "data": {
            "text/html": [
              "<div>\n",
              "<style scoped>\n",
              "    .dataframe tbody tr th:only-of-type {\n",
              "        vertical-align: middle;\n",
              "    }\n",
              "\n",
              "    .dataframe tbody tr th {\n",
              "        vertical-align: top;\n",
              "    }\n",
              "\n",
              "    .dataframe thead th {\n",
              "        text-align: right;\n",
              "    }\n",
              "</style>\n",
              "<table border=\"1\" class=\"dataframe\">\n",
              "  <thead>\n",
              "    <tr style=\"text-align: right;\">\n",
              "      <th></th>\n",
              "      <th>xa</th>\n",
              "      <th>ya</th>\n",
              "      <th>za</th>\n",
              "      <th>xg</th>\n",
              "      <th>yg</th>\n",
              "      <th>zg</th>\n",
              "      <th>time</th>\n",
              "      <th>subject_name</th>\n",
              "      <th>Label</th>\n",
              "    </tr>\n",
              "  </thead>\n",
              "  <tbody>\n",
              "    <tr>\n",
              "      <th>0</th>\n",
              "      <td>4.186920</td>\n",
              "      <td>8.344455</td>\n",
              "      <td>2.908057</td>\n",
              "      <td>0.005771</td>\n",
              "      <td>-0.004480</td>\n",
              "      <td>-0.003345</td>\n",
              "      <td>0.02</td>\n",
              "      <td>subject_001__1</td>\n",
              "      <td>0.0</td>\n",
              "    </tr>\n",
              "    <tr>\n",
              "      <th>1</th>\n",
              "      <td>4.544637</td>\n",
              "      <td>8.408659</td>\n",
              "      <td>2.890000</td>\n",
              "      <td>0.007967</td>\n",
              "      <td>0.022412</td>\n",
              "      <td>0.001159</td>\n",
              "      <td>0.05</td>\n",
              "      <td>subject_001__1</td>\n",
              "      <td>0.0</td>\n",
              "    </tr>\n",
              "    <tr>\n",
              "      <th>2</th>\n",
              "      <td>4.849308</td>\n",
              "      <td>8.411614</td>\n",
              "      <td>2.900692</td>\n",
              "      <td>0.027778</td>\n",
              "      <td>-0.010670</td>\n",
              "      <td>-0.014223</td>\n",
              "      <td>0.07</td>\n",
              "      <td>subject_001__1</td>\n",
              "      <td>0.0</td>\n",
              "    </tr>\n",
              "    <tr>\n",
              "      <th>3</th>\n",
              "      <td>4.509190</td>\n",
              "      <td>8.118649</td>\n",
              "      <td>2.847298</td>\n",
              "      <td>0.021577</td>\n",
              "      <td>-0.045498</td>\n",
              "      <td>-0.021111</td>\n",
              "      <td>0.10</td>\n",
              "      <td>subject_001__1</td>\n",
              "      <td>0.0</td>\n",
              "    </tr>\n",
              "    <tr>\n",
              "      <th>4</th>\n",
              "      <td>4.226515</td>\n",
              "      <td>8.273807</td>\n",
              "      <td>2.851742</td>\n",
              "      <td>0.012534</td>\n",
              "      <td>0.000445</td>\n",
              "      <td>-0.016830</td>\n",
              "      <td>0.12</td>\n",
              "      <td>subject_001__1</td>\n",
              "      <td>0.0</td>\n",
              "    </tr>\n",
              "    <tr>\n",
              "      <th>...</th>\n",
              "      <td>...</td>\n",
              "      <td>...</td>\n",
              "      <td>...</td>\n",
              "      <td>...</td>\n",
              "      <td>...</td>\n",
              "      <td>...</td>\n",
              "      <td>...</td>\n",
              "      <td>...</td>\n",
              "      <td>...</td>\n",
              "    </tr>\n",
              "    <tr>\n",
              "      <th>39433</th>\n",
              "      <td>1.266767</td>\n",
              "      <td>8.270302</td>\n",
              "      <td>5.139698</td>\n",
              "      <td>-0.002222</td>\n",
              "      <td>0.005120</td>\n",
              "      <td>-0.000951</td>\n",
              "      <td>985.85</td>\n",
              "      <td>subject_007__4</td>\n",
              "      <td>0.0</td>\n",
              "    </tr>\n",
              "    <tr>\n",
              "      <th>39434</th>\n",
              "      <td>1.150554</td>\n",
              "      <td>8.234723</td>\n",
              "      <td>5.204723</td>\n",
              "      <td>-0.002844</td>\n",
              "      <td>-0.008267</td>\n",
              "      <td>-0.003333</td>\n",
              "      <td>985.87</td>\n",
              "      <td>subject_007__4</td>\n",
              "      <td>0.0</td>\n",
              "    </tr>\n",
              "    <tr>\n",
              "      <th>39435</th>\n",
              "      <td>1.216095</td>\n",
              "      <td>8.261302</td>\n",
              "      <td>5.236952</td>\n",
              "      <td>-0.002018</td>\n",
              "      <td>0.003734</td>\n",
              "      <td>0.001111</td>\n",
              "      <td>985.90</td>\n",
              "      <td>subject_007__4</td>\n",
              "      <td>0.0</td>\n",
              "    </tr>\n",
              "    <tr>\n",
              "      <th>39436</th>\n",
              "      <td>1.314432</td>\n",
              "      <td>8.252274</td>\n",
              "      <td>5.215568</td>\n",
              "      <td>-0.005769</td>\n",
              "      <td>0.007968</td>\n",
              "      <td>-0.000449</td>\n",
              "      <td>985.92</td>\n",
              "      <td>subject_007__4</td>\n",
              "      <td>0.0</td>\n",
              "    </tr>\n",
              "    <tr>\n",
              "      <th>39437</th>\n",
              "      <td>1.293864</td>\n",
              "      <td>8.242272</td>\n",
              "      <td>5.236136</td>\n",
              "      <td>-0.003441</td>\n",
              "      <td>-0.002222</td>\n",
              "      <td>-0.004229</td>\n",
              "      <td>985.95</td>\n",
              "      <td>subject_007__4</td>\n",
              "      <td>0.0</td>\n",
              "    </tr>\n",
              "  </tbody>\n",
              "</table>\n",
              "<p>1293480 rows × 9 columns</p>\n",
              "</div>"
            ],
            "text/plain": [
              "             xa        ya        za  ...    time    subject_name  Label\n",
              "0      4.186920  8.344455  2.908057  ...    0.02  subject_001__1    0.0\n",
              "1      4.544637  8.408659  2.890000  ...    0.05  subject_001__1    0.0\n",
              "2      4.849308  8.411614  2.900692  ...    0.07  subject_001__1    0.0\n",
              "3      4.509190  8.118649  2.847298  ...    0.10  subject_001__1    0.0\n",
              "4      4.226515  8.273807  2.851742  ...    0.12  subject_001__1    0.0\n",
              "...         ...       ...       ...  ...     ...             ...    ...\n",
              "39433  1.266767  8.270302  5.139698  ...  985.85  subject_007__4    0.0\n",
              "39434  1.150554  8.234723  5.204723  ...  985.87  subject_007__4    0.0\n",
              "39435  1.216095  8.261302  5.236952  ...  985.90  subject_007__4    0.0\n",
              "39436  1.314432  8.252274  5.215568  ...  985.92  subject_007__4    0.0\n",
              "39437  1.293864  8.242272  5.236136  ...  985.95  subject_007__4    0.0\n",
              "\n",
              "[1293480 rows x 9 columns]"
            ]
          },
          "metadata": {
            "tags": []
          },
          "execution_count": 10
        }
      ]
    },
    {
      "cell_type": "markdown",
      "metadata": {
        "id": "o44u-jNd4Z_w"
      },
      "source": [
        "**Assign labels to the new interpolated dataframe**"
      ]
    },
    {
      "cell_type": "code",
      "metadata": {
        "id": "cnkZaUBqoz0w"
      },
      "source": [
        "X = temp[['xa','ya','za','xg','yg','zg','time','subject_name']]\n",
        "y = temp['Label']"
      ],
      "execution_count": null,
      "outputs": []
    },
    {
      "cell_type": "markdown",
      "metadata": {
        "id": "dKuAIm97gwzZ"
      },
      "source": [
        "**Not Using SMOTE as it decreases the accuracy**"
      ]
    },
    {
      "cell_type": "code",
      "metadata": {
        "id": "u3UIXLUagOOX"
      },
      "source": [
        "from imblearn.over_sampling import SMOTENC\n",
        "sm = SMOTENC(categorical_features = [7],random_state=42)\n",
        "X_with_smote,Y_with_smote = sm.fit_resample(X,y)"
      ],
      "execution_count": null,
      "outputs": []
    },
    {
      "cell_type": "markdown",
      "metadata": {
        "id": "a2CpCcO18sdB"
      },
      "source": [
        "**Combine the input and output data into one csv**"
      ]
    },
    {
      "cell_type": "code",
      "metadata": {
        "id": "PXXAJ_vpANym"
      },
      "source": [
        "from google.colab import files"
      ],
      "execution_count": null,
      "outputs": []
    },
    {
      "cell_type": "code",
      "metadata": {
        "id": "Z0EqTlzP8OrC"
      },
      "source": [
        "X_final,Y_final = X,y"
      ],
      "execution_count": null,
      "outputs": []
    },
    {
      "cell_type": "code",
      "metadata": {
        "id": "HEjbYySV7xLK"
      },
      "source": [
        "Y_final = pd.DataFrame(Y_final, columns = [\"Label\"])"
      ],
      "execution_count": null,
      "outputs": []
    },
    {
      "cell_type": "code",
      "metadata": {
        "id": "jXU1PBWv7yfQ"
      },
      "source": [
        "X_final = pd.DataFrame(X_final, columns=['xa','ya','za','xg','yg','zg','time','subject_name'])"
      ],
      "execution_count": null,
      "outputs": []
    },
    {
      "cell_type": "code",
      "metadata": {
        "id": "jgGmTJ_a70Y9"
      },
      "source": [
        "X_final['Label'] = Y_final['Label']"
      ],
      "execution_count": null,
      "outputs": []
    },
    {
      "cell_type": "code",
      "metadata": {
        "colab": {
          "base_uri": "https://localhost:8080/"
        },
        "id": "OjAX_yFf8hSX",
        "outputId": "c59a7199-4bcf-4328-e045-a2de0a02ad49"
      },
      "source": [
        "X_final['Label'].value_counts()"
      ],
      "execution_count": null,
      "outputs": [
        {
          "output_type": "execute_result",
          "data": {
            "text/plain": [
              "0.0    967332\n",
              "3.0    201148\n",
              "2.0     70356\n",
              "1.0     54644\n",
              "Name: Label, dtype: int64"
            ]
          },
          "metadata": {
            "tags": []
          },
          "execution_count": 17
        }
      ]
    },
    {
      "cell_type": "code",
      "metadata": {
        "id": "h8C0hfC5FLZe",
        "colab": {
          "base_uri": "https://localhost:8080/",
          "height": 34
        },
        "outputId": "b8ea4304-f491-4d4e-aeb0-49091d2cf3d1"
      },
      "source": [
        "X_final.to_csv(\"final_without_8.csv\")\n",
        "files.download(\"final_without_8.csv\")"
      ],
      "execution_count": null,
      "outputs": [
        {
          "output_type": "display_data",
          "data": {
            "application/javascript": [
              "\n",
              "    async function download(id, filename, size) {\n",
              "      if (!google.colab.kernel.accessAllowed) {\n",
              "        return;\n",
              "      }\n",
              "      const div = document.createElement('div');\n",
              "      const label = document.createElement('label');\n",
              "      label.textContent = `Downloading \"${filename}\": `;\n",
              "      div.appendChild(label);\n",
              "      const progress = document.createElement('progress');\n",
              "      progress.max = size;\n",
              "      div.appendChild(progress);\n",
              "      document.body.appendChild(div);\n",
              "\n",
              "      const buffers = [];\n",
              "      let downloaded = 0;\n",
              "\n",
              "      const channel = await google.colab.kernel.comms.open(id);\n",
              "      // Send a message to notify the kernel that we're ready.\n",
              "      channel.send({})\n",
              "\n",
              "      for await (const message of channel.messages) {\n",
              "        // Send a message to notify the kernel that we're ready.\n",
              "        channel.send({})\n",
              "        if (message.buffers) {\n",
              "          for (const buffer of message.buffers) {\n",
              "            buffers.push(buffer);\n",
              "            downloaded += buffer.byteLength;\n",
              "            progress.value = downloaded;\n",
              "          }\n",
              "        }\n",
              "      }\n",
              "      const blob = new Blob(buffers, {type: 'application/binary'});\n",
              "      const a = document.createElement('a');\n",
              "      a.href = window.URL.createObjectURL(blob);\n",
              "      a.download = filename;\n",
              "      div.appendChild(a);\n",
              "      a.click();\n",
              "      div.remove();\n",
              "    }\n",
              "  "
            ],
            "text/plain": [
              "<IPython.core.display.Javascript object>"
            ]
          },
          "metadata": {
            "tags": []
          }
        },
        {
          "output_type": "display_data",
          "data": {
            "application/javascript": [
              "download(\"download_f1c5d817-a731-456e-a14b-c1bfef589ff9\", \"final_without_8.csv\", 136409122)"
            ],
            "text/plain": [
              "<IPython.core.display.Javascript object>"
            ]
          },
          "metadata": {
            "tags": []
          }
        }
      ]
    }
  ]
}